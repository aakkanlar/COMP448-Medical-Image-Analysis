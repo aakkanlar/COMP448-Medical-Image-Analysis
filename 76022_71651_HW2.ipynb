{
  "cells": [
    {
      "cell_type": "code",
      "execution_count": null,
      "metadata": {
        "id": "89SUFN-dSQZC"
      },
      "outputs": [],
      "source": [
        "from google.colab import drive\n",
        "drive.mount(\"/content/gdrive\")"
      ]
    },
    {
      "cell_type": "code",
      "execution_count": 51,
      "metadata": {
        "id": "IeBz-IE_STvd"
      },
      "outputs": [],
      "source": [
        "import os\n",
        "import torch\n",
        "import torch.nn as nn\n",
        "import torch.optim as optim\n",
        "from torchvision import models, transforms\n",
        "from torch.utils.data import Dataset, DataLoader, random_split, WeightedRandomSampler\n",
        "import numpy as np\n",
        "from PIL import Image\n",
        "from torch.optim import lr_scheduler\n",
        "import copy\n",
        "class CustomDataset(Dataset):\n",
        "    def __init__(self, img_dir, label_file, transform=None):\n",
        "        self.img_dir = img_dir\n",
        "        # Directly listing files without sorting\n",
        "        self.img_paths = [os.path.join(img_dir, f) for f in os.listdir(img_dir) if f.endswith('.jpg') or f.endswith('.png')]\n",
        "        self.labels = self.load_labels(label_file)\n",
        "        self.transform = transform\n",
        "\n",
        "    def load_labels(self, label_file):\n",
        "        with open(label_file, 'r') as file:\n",
        "            labels = [int(line.strip()) - 1 for line in file.readlines()]  # Ensure labels are zero-indexed\n",
        "        return labels\n",
        "\n",
        "    def __len__(self):\n",
        "        return len(self.img_paths)\n",
        "\n",
        "    def __getitem__(self, idx):\n",
        "        image = Image.open(self.img_paths[idx]).convert('RGB')\n",
        "        label = self.labels[idx]\n",
        "        if self.transform:\n",
        "            image = self.transform(image)\n",
        "        return image, label\n",
        "\n",
        "def calculate_weights(dataset):\n",
        "    labels = [label for _, label in dataset]\n",
        "    c_counts = np.zeros(3)\n",
        "    for label in labels:\n",
        "        c_counts[label] += 1\n",
        "    weights = np.zeros(len(labels))\n",
        "    for i, label in enumerate(labels):\n",
        "        weights[i] = len(labels) / (3.0 * c_counts[label])\n",
        "    return torch.DoubleTensor(weights)\n",
        "\n",
        "\n",
        "\n",
        "\n",
        "\n",
        "\n"
      ]
    },
    {
      "cell_type": "code",
      "source": [
        "# Data transformations\n",
        "data_transforms = {\n",
        "    'train': transforms.Compose([\n",
        "        transforms.Resize(224),\n",
        "        transforms.ToTensor(),\n",
        "        transforms.Normalize(mean=[0.485, 0.456, 0.406],\n",
        "                            std=[0.229, 0.224, 0.225])\n",
        "    ]),\n",
        "    'test': transforms.Compose([\n",
        "        transforms.Resize(224),\n",
        "        transforms.ToTensor(),\n",
        "        transforms.Normalize(mean=[0.485, 0.456, 0.406],\n",
        "                             std=[0.229, 0.224, 0.225])\n",
        "    ])\n",
        "}\n",
        "\n",
        "# Directory setup\n",
        "data_dir = \"/content/gdrive/My Drive/dataset\"\n",
        "train_dataset = CustomDataset(\n",
        "    img_dir=os.path.join(data_dir, 'training'),\n",
        "    label_file=os.path.join(data_dir, 'training_labels.txt'),\n",
        "    transform=data_transforms['train']\n",
        ")\n",
        "\n",
        "test_dataset = CustomDataset(\n",
        "    img_dir=os.path.join(data_dir, 'test'),\n",
        "    label_file=os.path.join(data_dir, 'test_labels.txt'),\n",
        "    transform=data_transforms['test']\n",
        ")\n",
        "\n",
        "# Split train dataset into train and validation\n",
        "train_size = int(0.8 * len(train_dataset))\n",
        "val_size = len(train_dataset) - train_size\n",
        "train_dataset, val_dataset = random_split(train_dataset, [train_size, val_size])\n",
        "\n",
        "# Dataloaders with sampler for the training set\n",
        "weights = {\n",
        "    'train': calculate_weights(train_dataset),\n",
        "    'val': calculate_weights(val_dataset),\n",
        "    'test': calculate_weights(test_dataset)\n",
        "}\n",
        "\n",
        "\n",
        "samplers = {\n",
        "    x: WeightedRandomSampler(weights[x], len(weights[x]))\n",
        "    for x in ['train', 'val', 'test']\n",
        "}\n",
        "\n"
      ],
      "metadata": {
        "id": "XYUUxDcLqIaa"
      },
      "execution_count": 52,
      "outputs": []
    },
    {
      "cell_type": "code",
      "source": [
        "# Model setup\n",
        "model_conv = models.alexnet(pretrained=True)\n",
        "for param in model_conv.parameters():\n",
        "    param.requires_grad = False\n",
        "\n",
        "\n",
        "\n",
        "no_classes = 3\n",
        "#set the last layer, to be 3-classed\n",
        "model_conv.classifier[6] = nn.Linear(model_conv.classifier[6].in_features, no_classes)\n",
        "\n",
        "criterion = nn.CrossEntropyLoss()\n",
        "optimizer_conv = optim.SGD(model_conv.parameters(), lr=0.001, momentum=0.9)\n",
        "exp_lr_scheduler = lr_scheduler.StepLR(optimizer_conv, step_size=1, gamma=0.1)\n",
        "device = torch.device(\"cuda:0\" if torch.cuda.is_available() else \"cpu\")\n",
        "\n",
        "\n",
        "model_conv = model_conv.to(device)\n"
      ],
      "metadata": {
        "colab": {
          "base_uri": "https://localhost:8080/"
        },
        "id": "UpOF9xIaqJBs",
        "outputId": "66ff8777-4563-478e-e4f4-4da5250ea986"
      },
      "execution_count": 53,
      "outputs": [
        {
          "output_type": "stream",
          "name": "stderr",
          "text": [
            "/usr/local/lib/python3.10/dist-packages/torchvision/models/_utils.py:208: UserWarning: The parameter 'pretrained' is deprecated since 0.13 and may be removed in the future, please use 'weights' instead.\n",
            "  warnings.warn(\n",
            "/usr/local/lib/python3.10/dist-packages/torchvision/models/_utils.py:223: UserWarning: Arguments other than a weight enum or `None` for 'weights' are deprecated since 0.13 and may be removed in the future. The current behavior is equivalent to passing `weights=AlexNet_Weights.IMAGENET1K_V1`. You can also use `weights=AlexNet_Weights.DEFAULT` to get the most up-to-date weights.\n",
            "  warnings.warn(msg)\n"
          ]
        }
      ]
    },
    {
      "cell_type": "code",
      "source": [
        "def train_model(model, criterion, optimizer, scheduler, num_epochs, device):\n",
        "    dataloaders = {\n",
        "    'train': DataLoader(train_dataset, batch_size=4, sampler=samplers['train'], shuffle=False),\n",
        "    'val': DataLoader(val_dataset, batch_size=4,  shuffle=False),\n",
        "    'test': DataLoader(test_dataset, batch_size=4,  shuffle=False)\n",
        "}\n",
        "    best_model_wts = copy.deepcopy(model.state_dict())\n",
        "    best_acc = 0.0  # Initialize the best accuracy\n",
        "\n",
        "    for epoch in range(num_epochs):\n",
        "        print(f'Epoch {epoch+1}/{num_epochs}')\n",
        "        print('-' * 10)\n",
        "\n",
        "        for phase in ['train', 'val']:\n",
        "            if phase == 'train':\n",
        "                model.train()  # Set model to training mode\n",
        "            else:\n",
        "                model.eval()   # Set model to evaluate mode\n",
        "\n",
        "            running_loss = 0.0\n",
        "            running_corrects = 0\n",
        "\n",
        "            for inputs, labels in dataloaders[phase]:\n",
        "                inputs = inputs.to(device)\n",
        "                labels = labels.to(device)\n",
        "                optimizer.zero_grad()\n",
        "\n",
        "                with torch.set_grad_enabled(phase == 'train'):\n",
        "                    outputs = model(inputs)\n",
        "                    _, preds = torch.max(outputs, 1)\n",
        "                    loss = criterion(outputs, labels)\n",
        "\n",
        "                    if phase == 'train':\n",
        "                        loss.backward()\n",
        "                        optimizer.step()\n",
        "\n",
        "                running_loss += loss.item() * inputs.size(0)\n",
        "                running_corrects += torch.sum(preds == labels.data)\n",
        "\n",
        "            epoch_loss = running_loss / len(dataloaders[phase].dataset)\n",
        "            epoch_acc = running_corrects.double() / len(dataloaders[phase].dataset)\n",
        "            print(f'{phase} Loss: {epoch_loss:.4f} Acc: {epoch_acc:.4f}')\n",
        "\n",
        "            if phase == 'val' and epoch_acc > best_acc:\n",
        "                best_acc = epoch_acc\n",
        "                best_model_wts = copy.deepcopy(model.state_dict())  # Update the best model weights\n",
        "\n",
        "        scheduler.step()\n",
        "\n",
        "    print('Best validation Acc: {:4f}'.format(best_acc))\n",
        "\n",
        "    # load best model weights\n",
        "    model.load_state_dict(best_model_wts)\n",
        "    return model"
      ],
      "metadata": {
        "id": "JDhxSaP8qLu3"
      },
      "execution_count": 54,
      "outputs": []
    },
    {
      "cell_type": "code",
      "source": [
        "\n",
        "\n",
        "# Train and evaluate the model\n",
        "model_conv = train_model(model_conv, criterion, optimizer_conv, exp_lr_scheduler, 25,device)\n"
      ],
      "metadata": {
        "colab": {
          "base_uri": "https://localhost:8080/"
        },
        "id": "OREmnx0pqOw5",
        "outputId": "24aa04e1-bb56-4947-b4ec-8f072af9341a"
      },
      "execution_count": 55,
      "outputs": [
        {
          "output_type": "stream",
          "name": "stdout",
          "text": [
            "Epoch 1/25\n",
            "----------\n",
            "train Loss: 0.9878 Acc: 0.6757\n",
            "val Loss: 1.4480 Acc: 0.7105\n",
            "Epoch 2/25\n",
            "----------\n",
            "train Loss: 0.7708 Acc: 0.8176\n",
            "val Loss: 0.3364 Acc: 0.8947\n",
            "Epoch 3/25\n",
            "----------\n",
            "train Loss: 0.2284 Acc: 0.9324\n",
            "val Loss: 0.3056 Acc: 0.8947\n",
            "Epoch 4/25\n",
            "----------\n",
            "train Loss: 0.2890 Acc: 0.9392\n",
            "val Loss: 0.3055 Acc: 0.8947\n",
            "Epoch 5/25\n",
            "----------\n",
            "train Loss: 0.4320 Acc: 0.8716\n",
            "val Loss: 0.3050 Acc: 0.8947\n",
            "Epoch 6/25\n",
            "----------\n",
            "train Loss: 0.2203 Acc: 0.9324\n",
            "val Loss: 0.3050 Acc: 0.8947\n",
            "Epoch 7/25\n",
            "----------\n",
            "train Loss: 0.2413 Acc: 0.9122\n",
            "val Loss: 0.3050 Acc: 0.8947\n",
            "Epoch 8/25\n",
            "----------\n",
            "train Loss: 0.2798 Acc: 0.9189\n",
            "val Loss: 0.3050 Acc: 0.8947\n",
            "Epoch 9/25\n",
            "----------\n",
            "train Loss: 0.4476 Acc: 0.8716\n",
            "val Loss: 0.3050 Acc: 0.8947\n",
            "Epoch 10/25\n",
            "----------\n",
            "train Loss: 0.2435 Acc: 0.9054\n",
            "val Loss: 0.3050 Acc: 0.8947\n",
            "Epoch 11/25\n",
            "----------\n",
            "train Loss: 0.1972 Acc: 0.9189\n",
            "val Loss: 0.3050 Acc: 0.8947\n",
            "Epoch 12/25\n",
            "----------\n",
            "train Loss: 0.1218 Acc: 0.9595\n",
            "val Loss: 0.3050 Acc: 0.8947\n",
            "Epoch 13/25\n",
            "----------\n",
            "train Loss: 0.4263 Acc: 0.8649\n",
            "val Loss: 0.3050 Acc: 0.8947\n",
            "Epoch 14/25\n",
            "----------\n",
            "train Loss: 0.4278 Acc: 0.8851\n",
            "val Loss: 0.3050 Acc: 0.8947\n",
            "Epoch 15/25\n",
            "----------\n",
            "train Loss: 0.3376 Acc: 0.8851\n",
            "val Loss: 0.3050 Acc: 0.8947\n",
            "Epoch 16/25\n",
            "----------\n",
            "train Loss: 0.2383 Acc: 0.9189\n",
            "val Loss: 0.3050 Acc: 0.8947\n",
            "Epoch 17/25\n",
            "----------\n",
            "train Loss: 0.2245 Acc: 0.9189\n",
            "val Loss: 0.3050 Acc: 0.8947\n",
            "Epoch 18/25\n",
            "----------\n",
            "train Loss: 0.4032 Acc: 0.8581\n",
            "val Loss: 0.3050 Acc: 0.8947\n",
            "Epoch 19/25\n",
            "----------\n",
            "train Loss: 0.2621 Acc: 0.9054\n",
            "val Loss: 0.3050 Acc: 0.8947\n",
            "Epoch 20/25\n",
            "----------\n",
            "train Loss: 0.2508 Acc: 0.9189\n",
            "val Loss: 0.3050 Acc: 0.8947\n",
            "Epoch 21/25\n",
            "----------\n",
            "train Loss: 0.1923 Acc: 0.9122\n",
            "val Loss: 0.3050 Acc: 0.8947\n",
            "Epoch 22/25\n",
            "----------\n",
            "train Loss: 0.3683 Acc: 0.8851\n",
            "val Loss: 0.3050 Acc: 0.8947\n",
            "Epoch 23/25\n",
            "----------\n",
            "train Loss: 0.1463 Acc: 0.9459\n",
            "val Loss: 0.3050 Acc: 0.8947\n",
            "Epoch 24/25\n",
            "----------\n",
            "train Loss: 0.2482 Acc: 0.9189\n",
            "val Loss: 0.3050 Acc: 0.8947\n",
            "Epoch 25/25\n",
            "----------\n",
            "train Loss: 0.2915 Acc: 0.8784\n",
            "val Loss: 0.3050 Acc: 0.8947\n",
            "Best validation Acc: 0.894737\n"
          ]
        }
      ]
    },
    {
      "cell_type": "code",
      "source": [
        "model_conv.eval()\n",
        "\n",
        "dataloaders = {\n",
        "    'train': DataLoader(train_dataset, batch_size=4, shuffle=False),\n",
        "    'val': DataLoader(val_dataset, batch_size=4, shuffle=False),\n",
        "    'test': DataLoader(test_dataset, batch_size=4,  shuffle=False)\n",
        "}"
      ],
      "metadata": {
        "id": "XHmQb1WvwN91"
      },
      "execution_count": 56,
      "outputs": []
    },
    {
      "cell_type": "code",
      "execution_count": 57,
      "metadata": {
        "colab": {
          "base_uri": "https://localhost:8080/"
        },
        "id": "T0Z-Yu5HSUzy",
        "outputId": "5bdf776d-7bb1-496d-ec36-e2a3842bb32b"
      },
      "outputs": [
        {
          "output_type": "stream",
          "name": "stdout",
          "text": [
            "train\n",
            "tensor([[43.,  2.,  2.],\n",
            "        [ 1., 64.,  5.],\n",
            "        [ 0.,  0., 31.]])\n",
            "tensor([0.8958, 0.8889, 0.8158])\n",
            "tensor(0.9324)\n",
            "test\n",
            "tensor([[ 84.,   5.,   6.],\n",
            "        [  3., 111.,  13.],\n",
            "        [  2.,   4.,  64.]])\n",
            "tensor([0.8400, 0.8162, 0.7191])\n",
            "tensor(0.8870)\n",
            "val\n",
            "tensor([[ 96.,   5.,   7.],\n",
            "        [  3., 126.,  16.],\n",
            "        [  2.,   4.,  71.]])\n",
            "tensor([0.8496, 0.8182, 0.7100])\n",
            "tensor(0.8879)\n"
          ]
        }
      ],
      "source": [
        "confusion_matrix = torch.zeros(3, 3)\n",
        "with torch.no_grad():\n",
        "  for x in ['train', 'test', 'val']:\n",
        "    for i, (inputs, classes) in enumerate(dataloaders[x]):\n",
        "      inputs = inputs.to(device)\n",
        "      classes = classes.to(device)\n",
        "      outputs = model_conv(inputs)\n",
        "      _, preds = torch.max(outputs, 1)\n",
        "      for t, p in zip(classes.view(-1), preds.view(-1)):\n",
        "        confusion_matrix[t.long(), p.long()] += 1\n",
        "\n",
        "    print(x)\n",
        "    print(confusion_matrix)\n",
        "    print(confusion_matrix.diag()/(confusion_matrix.sum(0) + confusion_matrix.sum(1) - confusion_matrix.diag()))\n",
        "    print(confusion_matrix.diag().sum() / confusion_matrix.sum())"
      ]
    },
    {
      "cell_type": "code",
      "execution_count": null,
      "metadata": {
        "id": "w-e7Z-jqaOuv"
      },
      "outputs": [],
      "source": []
    },
    {
      "cell_type": "code",
      "execution_count": null,
      "metadata": {
        "id": "eMFiwqjXSWMW"
      },
      "outputs": [],
      "source": []
    },
    {
      "cell_type": "code",
      "execution_count": null,
      "metadata": {
        "id": "rMd3lxu0SXaK"
      },
      "outputs": [],
      "source": []
    },
    {
      "cell_type": "code",
      "execution_count": null,
      "metadata": {
        "id": "zKbxnF0RSZG2"
      },
      "outputs": [],
      "source": []
    },
    {
      "cell_type": "code",
      "execution_count": null,
      "metadata": {
        "id": "DEjQ_51pSafB"
      },
      "outputs": [],
      "source": []
    },
    {
      "cell_type": "code",
      "execution_count": null,
      "metadata": {
        "id": "npzwreRISb7l"
      },
      "outputs": [],
      "source": []
    },
    {
      "cell_type": "code",
      "execution_count": null,
      "metadata": {
        "id": "4pzoOsU3aPOC"
      },
      "outputs": [],
      "source": []
    }
  ],
  "metadata": {
    "accelerator": "GPU",
    "colab": {
      "gpuType": "T4",
      "provenance": []
    },
    "kernelspec": {
      "display_name": "Python 3",
      "name": "python3"
    },
    "language_info": {
      "name": "python"
    }
  },
  "nbformat": 4,
  "nbformat_minor": 0
}